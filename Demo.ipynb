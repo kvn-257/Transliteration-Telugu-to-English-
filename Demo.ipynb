{
 "cells": [
  {
   "cell_type": "code",
   "execution_count": 1,
   "id": "62869a83",
   "metadata": {},
   "outputs": [],
   "source": [
    "import torch\n",
    "import mlflow\n",
    "import mlflow.pytorch\n",
    "import torch.nn as nn\n",
    "device_gpu = torch.device(\"cuda:0\" if torch.cuda.is_available() else \"cpu\")\n",
    "import torch.nn.functional as F"
   ]
  },
  {
   "cell_type": "code",
   "execution_count": 2,
   "id": "df1dc532",
   "metadata": {},
   "outputs": [],
   "source": [
    "mlflow.set_tracking_uri(\"http://127.0.0.1:5000\")"
   ]
  },
  {
   "cell_type": "code",
   "execution_count": 3,
   "id": "5a3679a4",
   "metadata": {},
   "outputs": [],
   "source": [
    "Max = 30\n",
    "class Transliteration_Encoder_Decoder(nn.Module):\n",
    "  \n",
    "  def __init__(self, input_size, hidden_size, output_size):\n",
    "    super(Transliteration_Encoder_Decoder,self).__init__()\n",
    "\n",
    "    self.hidden_size = hidden_size\n",
    "    self.output_size = output_size\n",
    "\n",
    "    self.encoder_rnn_cell = nn.GRU(input_size, hidden_size)\n",
    "    self.decoder_rnn_cell = nn.GRU(hidden_size*2, hidden_size)\n",
    "\n",
    "    self.h2o = nn.Linear(hidden_size, output_size)\n",
    "    self.softmax = nn.LogSoftmax(dim=2)\n",
    "\n",
    "    self.U = nn.Linear(self.hidden_size,self.hidden_size)\n",
    "    self.W = nn.Linear(self.hidden_size,self.hidden_size)\n",
    "    self.attn = nn.Linear(self.hidden_size, 1)\n",
    "    self.out2hidden = nn.Linear(self.output_size, self.hidden_size)\n",
    "\n",
    "\n",
    "  def forward(self, input_, max_char = Max, device = 'cpu', gt=None):\n",
    "    # encoder\n",
    "    eout, hidden = self.encoder_rnn_cell(input_)\n",
    "    eout = eout.view(-1,self.hidden_size)\n",
    "    # decoder\n",
    "    decoder_state = hidden\n",
    "    decoder_input = torch.zeros(1, 1, self.output_size).to(device)\n",
    "   \n",
    "    outputs = []\n",
    "    U = self.U(eout)\n",
    "\n",
    "    for i in range(max_char):\n",
    "\n",
    "      W = self.W(decoder_state.view(1,-1).repeat(eout.shape[0], 1))\n",
    "      V = self.attn(torch.tanh(U + W))\n",
    "      attn_weights = F.softmax(V.view(1,-1), dim = 1)\n",
    "\n",
    "      attn_applied = torch.bmm(attn_weights.unsqueeze(0),\n",
    "                               eout.unsqueeze(0))\n",
    "\n",
    "      embedding = self.out2hidden(decoder_input)\n",
    "      decoder_input = torch.cat((embedding[0], attn_applied[0]),1).unsqueeze(0)\n",
    "\n",
    "      out , decoder_state = self.decoder_rnn_cell(decoder_input, decoder_state)\n",
    "      \n",
    "      out = self.h2o(decoder_state)\n",
    "      out = self.softmax(out)\n",
    "      outputs.append(out.view(1,-1))\n",
    "\n",
    "      #giving output of one nn to next nn\n",
    "\n",
    "      idx= torch.argmax(out,2,keepdim=True)\n",
    "      if not gt is None:\n",
    "        idx = gt[i].reshape(1,1,1)\n",
    "      one_hot = torch.zeros(out.shape, device = device)\n",
    "      one_hot.scatter_(2,idx,1)\n",
    "\n",
    "      decoder_input = one_hot.detach()\n",
    "    return outputs"
   ]
  },
  {
   "cell_type": "code",
   "execution_count": 4,
   "id": "925121ff",
   "metadata": {},
   "outputs": [],
   "source": [
    "model0 = torch.load(\"model1.pt\")"
   ]
  },
  {
   "cell_type": "code",
   "execution_count": 5,
   "id": "55861cbe",
   "metadata": {},
   "outputs": [],
   "source": [
    "model1 = mlflow.pytorch.load_model(\"mlflow-artifacts:/0/471282cbeafc4734b6ec1969bf72d4bb/artifacts/models\")"
   ]
  },
  {
   "cell_type": "code",
   "execution_count": 6,
   "id": "387cfc4d",
   "metadata": {},
   "outputs": [],
   "source": [
    "model3 = mlflow.pytorch.load_model(\"mlflow-artifacts:/0/ac6b9dfcd8794900802530f9e7b955b3/artifacts/models\")"
   ]
  },
  {
   "cell_type": "code",
   "execution_count": 7,
   "id": "cc57a98a",
   "metadata": {},
   "outputs": [],
   "source": [
    "model4 = mlflow.pytorch.load_model(\"mlflow-artifacts:/0/cc7895f4ad3b4d15ac5a2a66e709295f/artifacts/models\")"
   ]
  },
  {
   "cell_type": "code",
   "execution_count": 8,
   "id": "5ddbb0a0",
   "metadata": {},
   "outputs": [],
   "source": [
    "model5 = mlflow.pytorch.load_model(\"mlflow-artifacts:/0/e0e502fbf28e4a248089fd40df764480/artifacts/models\")"
   ]
  },
  {
   "cell_type": "code",
   "execution_count": 9,
   "id": "6e4c307c",
   "metadata": {},
   "outputs": [],
   "source": [
    "model2 = mlflow.pytorch.load_model(\"mlflow-artifacts:/0/09f32059eeb24723acefb00d2bb418fa/artifacts/models\")"
   ]
  },
  {
   "cell_type": "code",
   "execution_count": 10,
   "id": "19429e8c",
   "metadata": {},
   "outputs": [],
   "source": [
    "model6 = mlflow.pytorch.load_model(\"mlflow-artifacts:/0/be75d328439841529d305948b6b1b14a/artifacts/models\")"
   ]
  },
  {
   "cell_type": "code",
   "execution_count": 11,
   "id": "17b6f55e",
   "metadata": {},
   "outputs": [
    {
     "name": "stdout",
     "output_type": "stream",
     "text": [
      "{'-PAD-': 0, 'A': 1, 'B': 2, 'C': 3, 'D': 4, 'E': 5, 'F': 6, 'G': 7, 'H': 8, 'I': 9, 'J': 10, 'K': 11, 'L': 12, 'M': 13, 'N': 14, 'O': 15, 'P': 16, 'Q': 17, 'R': 18, 'S': 19, 'T': 20, 'U': 21, 'V': 22, 'W': 23, 'X': 24, 'Y': 25, 'Z': 26}\n"
     ]
    }
   ],
   "source": [
    "eng_alphabets = 'ABCDEFGHIJKLMNOPQRSTUVWXYZ'\n",
    "pad = '-PAD-'\n",
    "engdic = {pad : 0}\n",
    "for index ,alpha in enumerate(eng_alphabets):\n",
    "  engdic[alpha] = index+1\n",
    "print(engdic)"
   ]
  },
  {
   "cell_type": "code",
   "execution_count": 12,
   "id": "63587b89",
   "metadata": {},
   "outputs": [
    {
     "name": "stdout",
     "output_type": "stream",
     "text": [
      "{'-PAD-': 0, 'ఀ': 1, 'ఁ': 2, 'ం': 3, 'ః': 4, 'ఄ': 5, 'అ': 6, 'ఆ': 7, 'ఇ': 8, 'ఈ': 9, 'ఉ': 10, 'ఊ': 11, 'ఋ': 12, 'ఌ': 13, '\\u0c0d': 14, 'ఎ': 15, 'ఏ': 16, 'ఐ': 17, '\\u0c11': 18, 'ఒ': 19, 'ఓ': 20, 'ఔ': 21, 'క': 22, 'ఖ': 23, 'గ': 24, 'ఘ': 25, 'ఙ': 26, 'చ': 27, 'ఛ': 28, 'జ': 29, 'ఝ': 30, 'ఞ': 31, 'ట': 32, 'ఠ': 33, 'డ': 34, 'ఢ': 35, 'ణ': 36, 'త': 37, 'థ': 38, 'ద': 39, 'ధ': 40, 'న': 41, '\\u0c29': 42, 'ప': 43, 'ఫ': 44, 'బ': 45, 'భ': 46, 'మ': 47, 'య': 48, 'ర': 49, 'ఱ': 50, 'ల': 51, 'ళ': 52, 'ఴ': 53, 'వ': 54, 'శ': 55, 'ష': 56, 'స': 57, 'హ': 58, '\\u0c3a': 59, '\\u0c3b': 60, '\\u0c3c': 61, 'ఽ': 62, 'ా': 63, 'ి': 64, 'ీ': 65, 'ు': 66, 'ూ': 67, 'ృ': 68, 'ౄ': 69, '\\u0c45': 70, 'ె': 71, 'ే': 72, 'ై': 73, '\\u0c49': 74, 'ొ': 75, 'ో': 76, 'ౌ': 77, '్': 78, '\\u0c4e': 79, '\\u0c4f': 80, '\\u0c50': 81, '\\u0c51': 82, '\\u0c52': 83, '\\u0c53': 84, '\\u0c54': 85, 'ౕ': 86, 'ౖ': 87, '\\u0c57': 88, 'ౘ': 89, 'ౙ': 90, 'ౚ': 91, '\\u0c5b': 92, '\\u0c5c': 93, '\\u0c5d': 94, '\\u0c5e': 95, '\\u0c5f': 96, 'ౠ': 97, 'ౡ': 98, 'ౢ': 99, 'ౣ': 100, '\\u0c64': 101, '\\u0c65': 102, '౦': 103, '౧': 104, '౨': 105, '౩': 106, '౪': 107, '౫': 108, '౬': 109, '౭': 110, '౮': 111, '౯': 112, '\\u0c70': 113, '\\u0c71': 114, '\\u0c72': 115, '\\u0c73': 116, '\\u0c74': 117, '\\u0c75': 118, '\\u0c76': 119, '౷': 120, '౸': 121, '౹': 122, '౺': 123, '౻': 124, '౼': 125, '౽': 126, '౾': 127, '\\u200c': 128, '\\u200d': 129}\n"
     ]
    }
   ],
   "source": [
    "tel_alphabets = [chr(alpha) for alpha in range(3072,3199)]\n",
    "tel_alphabets.append(chr(8204))\n",
    "tel_alphabets.append(chr(8205))\n",
    "tel_size = len(tel_alphabets)\n",
    "teldic = {pad : 0}\n",
    "for index ,alpha in enumerate(tel_alphabets):\n",
    "  teldic[alpha] = index+1\n",
    "print(teldic)  \n"
   ]
  },
  {
   "cell_type": "code",
   "execution_count": 13,
   "id": "7375eb7a",
   "metadata": {},
   "outputs": [],
   "source": [
    "def gt_rep(word, dic, device = 'cpu'):\n",
    "  word = word.upper()\n",
    "  rep = torch.zeros([len(word)+1, 1], dtype=torch.long).to(device)\n",
    "  for letter_index, letter in enumerate(word):\n",
    "    pos = dic[letter]\n",
    "    rep[letter_index][0] = pos\n",
    "  rep[letter_index+1][0] = dic[pad]\n",
    "  return rep"
   ]
  },
  {
   "cell_type": "code",
   "execution_count": 14,
   "id": "512fd1dc",
   "metadata": {},
   "outputs": [],
   "source": [
    "def word_rep(word, dic, device = 'cpu'):\n",
    "  word_rep = torch.zeros(len(word)+1, 1, len(dic)).to(device)\n",
    "  for letter_index , letter in enumerate(word):\n",
    "    pos = dic[letter]\n",
    "    word_rep[letter_index][0][pos] = 1\n",
    "  pad_pos = dic[pad]\n",
    "  word_rep[letter_index+1][0][pad_pos] = 1\n",
    "  return word_rep  "
   ]
  },
  {
   "cell_type": "code",
   "execution_count": 15,
   "id": "ba4a7882",
   "metadata": {},
   "outputs": [],
   "source": [
    "def infer(net, name,n, device):\n",
    "  net.eval().to(device)\n",
    "  name_ohe = word_rep(name,teldic,device)\n",
    "  output = net(name_ohe,n,device)\n",
    "  return output"
   ]
  },
  {
   "cell_type": "code",
   "execution_count": 16,
   "id": "c32e6887",
   "metadata": {},
   "outputs": [],
   "source": [
    "out = infer(model3 , \"తస్కత్సం\",20,device_gpu)"
   ]
  },
  {
   "cell_type": "code",
   "execution_count": 17,
   "id": "e0c58778",
   "metadata": {},
   "outputs": [
    {
     "name": "stdout",
     "output_type": "stream",
     "text": [
      "torch.Size([8, 1, 130])\n"
     ]
    }
   ],
   "source": [
    "sample = word_rep(\"పసునూరి\",teldic)\n",
    "print(sample.size())"
   ]
  },
  {
   "cell_type": "code",
   "execution_count": 18,
   "id": "bd0287fb",
   "metadata": {},
   "outputs": [
    {
     "name": "stdout",
     "output_type": "stream",
     "text": [
      "torch.Size([1, 27]) T\n",
      "torch.Size([1, 27]) A\n",
      "torch.Size([1, 27]) S\n",
      "torch.Size([1, 27]) K\n",
      "torch.Size([1, 27]) A\n",
      "torch.Size([1, 27]) T\n",
      "torch.Size([1, 27]) S\n",
      "torch.Size([1, 27]) A\n",
      "torch.Size([1, 27]) M\n",
      "torch.Size([1, 27]) -PAD-\n",
      "torch.Size([1, 27]) -PAD-\n",
      "torch.Size([1, 27]) -PAD-\n",
      "torch.Size([1, 27]) -PAD-\n",
      "torch.Size([1, 27]) -PAD-\n",
      "torch.Size([1, 27]) -PAD-\n",
      "torch.Size([1, 27]) -PAD-\n",
      "torch.Size([1, 27]) -PAD-\n",
      "torch.Size([1, 27]) -PAD-\n",
      "torch.Size([1, 27]) -PAD-\n",
      "torch.Size([1, 27]) -PAD-\n"
     ]
    }
   ],
   "source": [
    "for i in range(len(out)):\n",
    "  print(out[i].shape, list(engdic.keys())[list(engdic.values()).index(torch.argmax(out[i]))])"
   ]
  },
  {
   "cell_type": "code",
   "execution_count": 21,
   "id": "65f4256b",
   "metadata": {},
   "outputs": [
    {
     "name": "stdout",
     "output_type": "stream",
     "text": [
      "TELUGU ANEDI DRAVIDA BHASHALA KUTUMBANIK CHENDINA BHASHA DENINI MATLADE PRAJALU PRADHANAGA ANDHRA TELANGANAL UNNARU IDI AA RASHTRALLL ADHIKARA BHASHA BHARATADES OKATI KANTE EKKUVA RASHTRALLO PRATHAMIKA ADHIKARIKA BHASHA HODA KALIGINA KODDI BHASHALLLO HINDI BENGALILAT PATU IDI KUDDA UNDI BHARATADES ATYADIIKAN MATHRBHASH MATLADE BHASHALLLO TELUGU NALUGO STHANALOO UNDI BHARATA DESAALOO JANABHA LEKKALA PRAKARAM DADAPU MILIANLA MANDI MATLADEVAR PRAPANCHA VYATTANGA MATHRBHASH MATLADE BHASHALA ETHNOLGG JABITALO VA STHANALOO UNDI IDI DRAVIDA BHASHA KUTUMBAMLO EKKUVAMMDI MATLADE BHASHA BHARATADES IRAVI RENDU SHEDULL BHASHALLLO IDI OKATI IDI AMERIKALOO VEGANGA ABHIVRDDHI CHENDUTUNN BHASHA TELUGU BHASHALO SUMARU \n"
     ]
    }
   ],
   "source": [
    "a=\"తెలుగు అనేది ద్రావిడ భాషల కుటుంబానికి చెందిన భాష దీనిని మాట్లాడే ప్రజలు ప్రధానంగా ఆంధ్ర తెలంగాణాలో ఉన్నారు ఇది ఆ రాష్ట్రాలలో అధికార భాష భారతదేశంలో ఒకటి కంటే ఎక్కువ రాష్ట్రాల్లో ప్రాథమిక అధికారిక భాషా హోదా కలిగిన కొద్ది భాషలలో హిందీ బెంగాలీలతో పాటు ఇది కూడా ఉంది భారతదేశంలో అత్యధికంగా మాతృభాషగా మాట్లాడే భాషలలో తెలుగు నాలుగో స్థానంలో ఉంది భారత దేశంలో జనాభా లెక్కల ప్రకారం దాదాపు మిలియన్ల మంది మాట్లాడేవారున్నారు ప్రపంచ వ్యాప్తంగా మాతృభాషగా మాట్లాడే భాషల ఎథ్నోలాగ్ జాబితాలో వ స్థానంలో ఉంది ఇది ద్రావిడ భాషా కుటుంబంలో ఎక్కువమంది మాట్లాడే భాష భారతదేశంలో ఇరవై రెండు షెడ్యూల్ భాషలలో ఇది ఒకటి ఇది అమెరికాలో వేగంగా అభివృద్ధి చెందుతున్న భాష తెలుగు భాషలో సుమారు \"\n",
    "words=a.split()\n",
    "s=\"\"\n",
    "for word in words:\n",
    "  out2 = infer(model6,word,10,device_gpu)\n",
    "  for i in range(len(out2)):\n",
    "    k=(list(engdic.keys())[list(engdic.values()).index(torch.argmax(out2[i]))])\n",
    "    if(str(k)==\"-PAD-\"):\n",
    "      continue\n",
    "    s=s+str(k)\n",
    "  s=s+\" \"\n",
    "print(s)\n",
    "   "
   ]
  },
  {
   "cell_type": "code",
   "execution_count": null,
   "id": "d6c0fce3",
   "metadata": {},
   "outputs": [],
   "source": [
    "6TELUGU ANEDI DRAVIDA BHASHALA KUTUMBANIK CHENDINA BHASHA DENINI MATLADE PRAJALU PRADHANAGA ANDHRA TELANGANAL UNNARU IDI AA RASHTRALLL ADHIKARA BHASHA BHARATADES OKATI KANTE EKKUVA RASHTRALLO PRATHAMIKA ADHIKARIKA BHASHA HODA KALIGINA KODDI BHASHALLLO HINDI BENGALILAT PATU IDI KUDDA UNDI "
   ]
  },
  {
   "cell_type": "code",
   "execution_count": null,
   "id": "90b3cf15",
   "metadata": {},
   "outputs": [],
   "source": [
    "3TELLUGU ANEDI DRAVIDD BHASHALA KUTUMBANIK CHENDINA BHASHA DEENIII MATLADE PRAJALU PRADHANANG ANDHRA TELLANGANA UNNARU IDI AA RASHTRALLL ADHIKARA BHASHA BHARATADES OKATI KANTE EKKUVA RASHTRALLO PRATHAMIKA ADHIKARIKK BHASHA HODA KALIGINA KODDI BHASHALLLO HINDI BENGALILAT PATU IDI KUDA UNDI"
   ]
  },
  {
   "cell_type": "code",
   "execution_count": null,
   "id": "394a5956",
   "metadata": {},
   "outputs": [],
   "source": [
    "2TELUGU ANEDI DRAVIDA BHASHALA KUTUMBANII CHENDINA BHASHA DEENNI MATLADE PRAJALU PRADHANAGA ANDHRA TELANGANAL UNNARU IDI AA RASHTRALLL ADHIKARA BHASHA BHARATHETA OKATI KANTE EKKUVA RASHTRALLO PRATHAMIKA ADHIKARIKA BHASHA HODA KALIGINA KODDI BHASHALLLO HINDI BENGALILAT PATU IDI KUDA UNDI "
   ]
  },
  {
   "cell_type": "code",
   "execution_count": null,
   "id": "7ac6e93e",
   "metadata": {},
   "outputs": [],
   "source": [
    "5TELLUGU ANEDI DRAVIDA BHASHALA KUTUNBANII CHENDINA BHASHA DEENINI MATLADE PRAJALU PRADHANANG ANDHRA TELANGANAL UNNAR IDI AA RASHTRALLL ADHIKARA BHASHA BHARATADES OKATI KANTE EKKUVA RASHTRALLO PRATHAMIKA ADHIKARIKA BHASHA HODA KALIGINA KODDI BHASHALLLO HINDI BENGALILAT PATU IDI KUDA UNDI "
   ]
  },
  {
   "cell_type": "code",
   "execution_count": 8,
   "id": "5462336c",
   "metadata": {},
   "outputs": [],
   "source": [
    "traced_model = torch.jit.trace(model.to(torch.device(\"cpu\")), torch.randn(20, 1, 130).to(\"cpu\"))\n",
    "traced_model.save('Androidmodel.pt')"
   ]
  },
  {
   "cell_type": "code",
   "execution_count": 18,
   "id": "c7bd825e",
   "metadata": {},
   "outputs": [
    {
     "name": "stdout",
     "output_type": "stream",
     "text": [
      "<class 'list'>\n"
     ]
    }
   ],
   "source": [
    "print(type(out))"
   ]
  },
  {
   "cell_type": "code",
   "execution_count": 19,
   "id": "3b73cb86",
   "metadata": {},
   "outputs": [
    {
     "name": "stdout",
     "output_type": "stream",
     "text": [
      "[tensor([[-11.6033,  -5.1333, -11.8941,  -7.0798,  -6.5921,  -7.5096,  -9.4377,\n",
      "          -7.3692,  -6.2707,  -7.7255, -12.5182,  -9.0643,  -9.6306,  -9.5077,\n",
      "          -7.4743, -10.6196,  -7.2057, -10.6306,  -7.0185,  -6.2257,  -0.0168,\n",
      "          -8.9025,  -8.5771,  -8.7973, -12.5460, -10.9065, -12.5018]],\n",
      "       device='cuda:0', grad_fn=<ViewBackward0>), tensor([[ -9.7788,  -0.1689, -13.9893,  -9.6168, -11.4963,  -5.7406, -16.0995,\n",
      "         -13.1351,  -1.9992,  -6.3859, -14.4776, -11.3705,  -9.5609, -11.5237,\n",
      "          -9.7957,  -5.8482, -12.0105, -15.5033,  -8.8353,  -7.2346,  -5.8312,\n",
      "          -4.8941, -10.9334,  -9.1833, -15.3911,  -7.7335, -14.1730]],\n",
      "       device='cuda:0', grad_fn=<ViewBackward0>), tensor([[ -8.5035,  -2.8494,  -7.7627,  -5.2146,  -9.9531,  -6.7927, -11.5295,\n",
      "          -9.5764,  -7.6060,  -6.5669,  -7.4923,  -7.9452,  -6.8112,  -7.9977,\n",
      "          -6.3251,  -7.4502, -10.5762, -10.0070,  -7.7280,  -0.1384,  -5.7746,\n",
      "          -3.0043,  -7.2429,  -7.1359,  -6.7383,  -6.6891,  -8.0641]],\n",
      "       device='cuda:0', grad_fn=<ViewBackward0>), tensor([[ -7.1207,  -3.8113,  -8.1289,  -2.1049,  -7.6521,  -6.9242, -11.1597,\n",
      "          -8.6678,  -4.3430,  -5.8228,  -7.4284,  -0.3027,  -6.3537,  -7.8518,\n",
      "          -6.1789,  -8.0956,  -9.2534,  -5.8288,  -8.3299,  -2.6868,  -4.8452,\n",
      "          -5.1935,  -6.0720,  -6.0271,  -5.9775,  -6.7867,  -8.5542]],\n",
      "       device='cuda:0', grad_fn=<ViewBackward0>), tensor([[ -6.6421,  -0.2404, -11.3325,  -6.3638,  -7.6688,  -5.5073, -13.7273,\n",
      "          -9.3473,  -3.8037,  -5.6572, -12.0227,  -2.8236,  -7.8446,  -8.6001,\n",
      "          -6.5112,  -6.1375,  -9.6258, -10.3750,  -7.7710,  -5.1157,  -2.2725,\n",
      "          -5.2368,  -7.1389,  -7.8895, -10.4524,  -7.5441, -11.7004]],\n",
      "       device='cuda:0', grad_fn=<ViewBackward0>), tensor([[ -6.3705,  -2.6986, -12.0139,  -7.2122,  -6.6944,  -6.4498, -10.7567,\n",
      "          -8.8786,  -3.6165,  -5.3964, -12.6501,  -6.1346,  -7.7056,  -8.8333,\n",
      "          -6.4559,  -8.2579,  -9.0032, -10.8907,  -7.7670,  -4.6453,  -0.1313,\n",
      "          -5.9299,  -7.3565,  -7.6363, -10.4124,  -8.2031, -11.6840]],\n",
      "       device='cuda:0', grad_fn=<ViewBackward0>), tensor([[ -4.3104,  -2.6543,  -7.6492,  -5.5295,  -7.8723,  -5.7804, -10.9780,\n",
      "          -8.4662,  -2.5929,  -4.4976,  -8.7112,  -4.5200,  -5.7622,  -4.9991,\n",
      "          -4.4832,  -6.7815,  -8.7296, -10.0684,  -5.6052,  -0.3709,  -2.6998,\n",
      "          -3.8266,  -6.8035,  -6.8152,  -9.6114,  -5.7862,  -7.7627]],\n",
      "       device='cuda:0', grad_fn=<ViewBackward0>), tensor([[ -2.4294,  -1.0315,  -6.5830,  -6.1633,  -8.9382,  -5.0839, -12.5228,\n",
      "          -9.0606,  -2.7758,  -4.0971,  -7.3323,  -4.9034,  -6.1557,  -2.0272,\n",
      "          -3.5567,  -4.8211,  -8.1487, -10.5311,  -6.7514,  -1.4658,  -4.8507,\n",
      "          -3.2504,  -7.9430,  -6.6848,  -9.2332,  -4.9598,  -7.7915]],\n",
      "       device='cuda:0', grad_fn=<ViewBackward0>), tensor([[ -2.2632,  -1.2860,  -6.2623,  -8.4616,  -8.8484,  -6.8475, -14.7279,\n",
      "          -8.4388,  -5.1893,  -6.0265,  -7.7654,  -5.9685,  -7.0829,  -0.5799,\n",
      "          -3.9071,  -5.6328,  -8.5622, -11.6100,  -8.0881,  -4.6956,  -7.8751,\n",
      "          -4.7982,  -8.7223,  -9.0720,  -9.9103,  -6.2593,  -9.1408]],\n",
      "       device='cuda:0', grad_fn=<ViewBackward0>), tensor([[ -0.2556,  -3.4982,  -7.1548, -10.4780,  -9.1968,  -7.3782, -15.0211,\n",
      "          -8.6571,  -7.8978,  -6.5021,  -8.3407,  -7.8895,  -7.6868,  -1.7037,\n",
      "          -5.3965,  -8.6002,  -9.2388, -13.4688,  -8.6634,  -6.1710,  -9.3658,\n",
      "          -6.9990, -10.4094, -10.8304, -12.4605,  -7.5900, -10.5456]],\n",
      "       device='cuda:0', grad_fn=<ViewBackward0>), tensor([[ -0.0865,  -3.8238,  -8.7210, -11.1685,  -8.8494,  -8.1438, -17.0285,\n",
      "          -9.6735,  -7.8074,  -7.5590,  -9.8449,  -8.4217,  -8.1485,  -2.9045,\n",
      "          -6.1563,  -9.5924, -11.1388, -14.2550,  -9.5213,  -7.1017, -10.3161,\n",
      "          -7.2179, -12.0334, -11.9473, -13.1293,  -8.7274, -11.5918]],\n",
      "       device='cuda:0', grad_fn=<ViewBackward0>), tensor([[ -0.0411,  -4.3776,  -9.4477, -11.7822,  -9.2479,  -8.5295, -17.5089,\n",
      "         -10.1560,  -8.0692,  -8.1345, -10.3119,  -9.4900,  -8.7019,  -3.7078,\n",
      "          -7.2285, -10.4805, -12.0013, -15.0431, -10.0044,  -7.4315, -10.9350,\n",
      "          -7.9305, -12.6231, -12.5686, -14.1386,  -9.4728, -12.1418]],\n",
      "       device='cuda:0', grad_fn=<ViewBackward0>), tensor([[ -0.0250,  -4.6626, -10.0304, -12.0440,  -9.7352,  -8.6051, -17.8784,\n",
      "         -10.8281,  -8.1705,  -8.5371, -10.7075, -10.2228,  -9.0897,  -4.3396,\n",
      "          -7.8843, -10.7061, -12.5296, -15.5870, -10.4549,  -7.6781, -11.3499,\n",
      "          -8.3509, -13.0054, -12.9196, -14.7643,  -9.8998, -12.6021]],\n",
      "       device='cuda:0', grad_fn=<ViewBackward0>), tensor([[ -0.0191,  -4.8970, -10.3955, -12.1592,  -9.9952,  -8.6192, -18.1767,\n",
      "         -11.3095,  -8.3177,  -8.8541, -10.9509, -10.6147,  -9.3407,  -4.6400,\n",
      "          -8.2051, -10.8005, -12.8326, -15.8914, -10.7066,  -7.8096, -11.6627,\n",
      "          -8.6253, -13.1906, -13.1356, -15.1203, -10.1747, -12.8973]],\n",
      "       device='cuda:0', grad_fn=<ViewBackward0>), tensor([[-1.6152e-02, -5.0551e+00, -1.0656e+01, -1.2212e+01, -1.0128e+01,\n",
      "         -8.6125e+00, -1.8400e+01, -1.1640e+01, -8.4165e+00, -9.0555e+00,\n",
      "         -1.1107e+01, -1.0872e+01, -9.4957e+00, -4.8177e+00, -8.3749e+00,\n",
      "         -1.0866e+01, -1.3042e+01, -1.6077e+01, -1.0865e+01, -7.8604e+00,\n",
      "         -1.1833e+01, -8.7893e+00, -1.3314e+01, -1.3280e+01, -1.5342e+01,\n",
      "         -1.0346e+01, -1.3090e+01]], device='cuda:0', grad_fn=<ViewBackward0>), tensor([[-1.4531e-02, -5.1496e+00, -1.0853e+01, -1.2242e+01, -1.0216e+01,\n",
      "         -8.5964e+00, -1.8584e+01, -1.1882e+01, -8.4704e+00, -9.1862e+00,\n",
      "         -1.1223e+01, -1.1064e+01, -9.6070e+00, -4.9387e+00, -8.4755e+00,\n",
      "         -1.0903e+01, -1.3212e+01, -1.6209e+01, -1.0984e+01, -7.8836e+00,\n",
      "         -1.1929e+01, -8.9003e+00, -1.3399e+01, -1.3380e+01, -1.5501e+01,\n",
      "         -1.0452e+01, -1.3232e+01]], device='cuda:0', grad_fn=<ViewBackward0>), tensor([[-1.3496e-02, -5.2189e+00, -1.1005e+01, -1.2260e+01, -1.0285e+01,\n",
      "         -8.5775e+00, -1.8733e+01, -1.2062e+01, -8.5085e+00, -9.2768e+00,\n",
      "         -1.1307e+01, -1.1215e+01, -9.7002e+00, -5.0218e+00, -8.5385e+00,\n",
      "         -1.0926e+01, -1.3353e+01, -1.6308e+01, -1.1079e+01, -7.8922e+00,\n",
      "         -1.1994e+01, -8.9838e+00, -1.3456e+01, -1.3451e+01, -1.5623e+01,\n",
      "         -1.0524e+01, -1.3337e+01]], device='cuda:0', grad_fn=<ViewBackward0>), tensor([[-1.2767e-02, -5.2750e+00, -1.1126e+01, -1.2266e+01, -1.0343e+01,\n",
      "         -8.5576e+00, -1.8853e+01, -1.2198e+01, -8.5374e+00, -9.3424e+00,\n",
      "         -1.1368e+01, -1.1336e+01, -9.7815e+00, -5.0821e+00, -8.5786e+00,\n",
      "         -1.0940e+01, -1.3472e+01, -1.6385e+01, -1.1157e+01, -7.8921e+00,\n",
      "         -1.2039e+01, -9.0493e+00, -1.3494e+01, -1.3502e+01, -1.5718e+01,\n",
      "         -1.0577e+01, -1.3414e+01]], device='cuda:0', grad_fn=<ViewBackward0>), tensor([[-1.2222e-02, -5.3221e+00, -1.1225e+01, -1.2264e+01, -1.0395e+01,\n",
      "         -8.5375e+00, -1.8949e+01, -1.2302e+01, -8.5582e+00, -9.3916e+00,\n",
      "         -1.1412e+01, -1.1436e+01, -9.8533e+00, -5.1280e+00, -8.6032e+00,\n",
      "         -1.0946e+01, -1.3574e+01, -1.6444e+01, -1.1224e+01, -7.8865e+00,\n",
      "         -1.2069e+01, -9.1028e+00, -1.3521e+01, -1.3539e+01, -1.5792e+01,\n",
      "         -1.0618e+01, -1.3471e+01]], device='cuda:0', grad_fn=<ViewBackward0>), tensor([[-1.1797e-02, -5.3629e+00, -1.1306e+01, -1.2254e+01, -1.0442e+01,\n",
      "         -8.5177e+00, -1.9026e+01, -1.2382e+01, -8.5724e+00, -9.4298e+00,\n",
      "         -1.1446e+01, -1.1520e+01, -9.9171e+00, -5.1640e+00, -8.6167e+00,\n",
      "         -1.0948e+01, -1.3662e+01, -1.6489e+01, -1.1283e+01, -7.8772e+00,\n",
      "         -1.2088e+01, -9.1476e+00, -1.3540e+01, -1.3565e+01, -1.5852e+01,\n",
      "         -1.0650e+01, -1.3514e+01]], device='cuda:0', grad_fn=<ViewBackward0>)]\n"
     ]
    }
   ],
   "source": [
    "print(out)"
   ]
  },
  {
   "cell_type": "code",
   "execution_count": 33,
   "id": "2ee98e4e",
   "metadata": {},
   "outputs": [],
   "source": [
    "androidmodel = torch.jit.load(\"Androidmodel1.pt\")\n"
   ]
  },
  {
   "cell_type": "code",
   "execution_count": 34,
   "id": "77971495",
   "metadata": {},
   "outputs": [
    {
     "name": "stdout",
     "output_type": "stream",
     "text": [
      "torch.Size([7, 1, 130])\n"
     ]
    }
   ],
   "source": [
    "print(str(word_rep(\"తెలుగు\",teldic).size()))"
   ]
  },
  {
   "cell_type": "code",
   "execution_count": 40,
   "id": "1630c478",
   "metadata": {},
   "outputs": [],
   "source": [
    "output = androidmodel(word_rep(\"పసునూరి\",teldic))"
   ]
  },
  {
   "cell_type": "code",
   "execution_count": 36,
   "id": "57704e74",
   "metadata": {},
   "outputs": [
    {
     "name": "stdout",
     "output_type": "stream",
     "text": [
      "<class 'torch.Tensor'>\n"
     ]
    }
   ],
   "source": [
    "print(type(output[0]))"
   ]
  },
  {
   "cell_type": "code",
   "execution_count": 38,
   "id": "7db2bf16",
   "metadata": {},
   "outputs": [
    {
     "name": "stdout",
     "output_type": "stream",
     "text": [
      " PASUNURI\n"
     ]
    }
   ],
   "source": [
    "s = \" \"\n",
    "for i in range(len(output)):\n",
    "    k = list(engdic.keys())[list(engdic.values()).index(torch.argmax(output[i]))]\n",
    "    if(k==pad):\n",
    "        continue;\n",
    "    else:\n",
    "        s=s+k\n",
    "print(s)        "
   ]
  },
  {
   "cell_type": "code",
   "execution_count": null,
   "id": "d96df7dd",
   "metadata": {},
   "outputs": [],
   "source": [
    "torch.Tensor()"
   ]
  }
 ],
 "metadata": {
  "kernelspec": {
   "display_name": "Python 3 (ipykernel)",
   "language": "python",
   "name": "python3"
  },
  "language_info": {
   "codemirror_mode": {
    "name": "ipython",
    "version": 3
   },
   "file_extension": ".py",
   "mimetype": "text/x-python",
   "name": "python",
   "nbconvert_exporter": "python",
   "pygments_lexer": "ipython3",
   "version": "3.10.6"
  }
 },
 "nbformat": 4,
 "nbformat_minor": 5
}
