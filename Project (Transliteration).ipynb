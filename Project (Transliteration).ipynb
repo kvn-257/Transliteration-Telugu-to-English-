{
 "cells": [
  {
   "cell_type": "code",
   "execution_count": 1,
   "metadata": {
    "executionInfo": {
     "elapsed": 3819,
     "status": "ok",
     "timestamp": 1678383756635,
     "user": {
      "displayName": "Narendra K",
      "userId": "08510007875355726337"
     },
     "user_tz": -330
    },
    "id": "tS9g26zlzunb"
   },
   "outputs": [],
   "source": [
    "from io import open\n",
    "import numpy as np\n",
    "import matplotlib.pyplot as plt\n",
    "import torch\n",
    "import torch.nn as nn\n",
    "import torch.nn.functional as F\n",
    "import torch.optim as optim\n",
    "import seaborn as sns\n",
    "import os, string, random, time, math \n",
    "from sklearn.model_selection import train_test_split\n",
    "from torch.autograd import Variable\n",
    "device_gpu = torch.device(\"cuda:0\" if torch.cuda.is_available() else \"cpu\")\n",
    "from IPython.display import clear_output\n",
    "import re\n",
    "import string\n",
    "import mlflow\n",
    "import mlflow.pytorch"
   ]
  },
  {
   "cell_type": "code",
   "execution_count": 2,
   "metadata": {
    "colab": {
     "base_uri": "https://localhost:8080/"
    },
    "executionInfo": {
     "elapsed": 13,
     "status": "ok",
     "timestamp": 1678383756636,
     "user": {
      "displayName": "Narendra K",
      "userId": "08510007875355726337"
     },
     "user_tz": -330
    },
    "id": "2V_lRE58ACqO",
    "outputId": "2e581ab0-19a3-4cc6-fc5e-63f5cf8e2dce"
   },
   "outputs": [
    {
     "name": "stdout",
     "output_type": "stream",
     "text": [
      "True\n"
     ]
    }
   ],
   "source": [
    "print(torch.cuda.is_available())"
   ]
  },
  {
   "cell_type": "code",
   "execution_count": 3,
   "metadata": {},
   "outputs": [
    {
     "name": "stdout",
     "output_type": "stream",
     "text": [
      "2.0.0+cu117\n"
     ]
    }
   ],
   "source": [
    "print(torch.__version__)"
   ]
  },
  {
   "cell_type": "code",
   "execution_count": 4,
   "metadata": {},
   "outputs": [
    {
     "name": "stdout",
     "output_type": "stream",
     "text": [
      "cuda:0\n"
     ]
    }
   ],
   "source": [
    "print(device_gpu)"
   ]
  },
  {
   "cell_type": "code",
   "execution_count": 5,
   "metadata": {},
   "outputs": [
    {
     "name": "stdout",
     "output_type": "stream",
     "text": [
      "1\n",
      "NVIDIA GeForce MX550\n"
     ]
    }
   ],
   "source": [
    "print(torch.cuda.device_count())\n",
    "print(torch.cuda.get_device_name())"
   ]
  },
  {
   "cell_type": "markdown",
   "metadata": {
    "id": "jWpLrW2EOLG7"
   },
   "source": [
    "# **Encoding**"
   ]
  },
  {
   "cell_type": "code",
   "execution_count": 6,
   "metadata": {
    "colab": {
     "base_uri": "https://localhost:8080/"
    },
    "executionInfo": {
     "elapsed": 10,
     "status": "ok",
     "timestamp": 1678383756636,
     "user": {
      "displayName": "Narendra K",
      "userId": "08510007875355726337"
     },
     "user_tz": -330
    },
    "id": "GhJpxVugU1A9",
    "outputId": "5c3a534b-9c71-4f41-ca24-443f6e918805"
   },
   "outputs": [
    {
     "name": "stdout",
     "output_type": "stream",
     "text": [
      "{'-PAD-': 0, 'A': 1, 'B': 2, 'C': 3, 'D': 4, 'E': 5, 'F': 6, 'G': 7, 'H': 8, 'I': 9, 'J': 10, 'K': 11, 'L': 12, 'M': 13, 'N': 14, 'O': 15, 'P': 16, 'Q': 17, 'R': 18, 'S': 19, 'T': 20, 'U': 21, 'V': 22, 'W': 23, 'X': 24, 'Y': 25, 'Z': 26}\n"
     ]
    }
   ],
   "source": [
    "eng_alphabets = 'ABCDEFGHIJKLMNOPQRSTUVWXYZ'\n",
    "pad = '-PAD-'\n",
    "engdic = {pad : 0}\n",
    "for index ,alpha in enumerate(eng_alphabets):\n",
    "  engdic[alpha] = index+1\n",
    "print(engdic)"
   ]
  },
  {
   "cell_type": "code",
   "execution_count": 7,
   "metadata": {
    "colab": {
     "base_uri": "https://localhost:8080/"
    },
    "executionInfo": {
     "elapsed": 8,
     "status": "ok",
     "timestamp": 1678383756636,
     "user": {
      "displayName": "Narendra K",
      "userId": "08510007875355726337"
     },
     "user_tz": -330
    },
    "id": "Dv2QoiOOV0zF",
    "outputId": "62317266-1bdd-4292-d4d0-faae80f47a9c"
   },
   "outputs": [
    {
     "name": "stdout",
     "output_type": "stream",
     "text": [
      "{'-PAD-': 0, 'ఀ': 1, 'ఁ': 2, 'ం': 3, 'ః': 4, 'ఄ': 5, 'అ': 6, 'ఆ': 7, 'ఇ': 8, 'ఈ': 9, 'ఉ': 10, 'ఊ': 11, 'ఋ': 12, 'ఌ': 13, '\\u0c0d': 14, 'ఎ': 15, 'ఏ': 16, 'ఐ': 17, '\\u0c11': 18, 'ఒ': 19, 'ఓ': 20, 'ఔ': 21, 'క': 22, 'ఖ': 23, 'గ': 24, 'ఘ': 25, 'ఙ': 26, 'చ': 27, 'ఛ': 28, 'జ': 29, 'ఝ': 30, 'ఞ': 31, 'ట': 32, 'ఠ': 33, 'డ': 34, 'ఢ': 35, 'ణ': 36, 'త': 37, 'థ': 38, 'ద': 39, 'ధ': 40, 'న': 41, '\\u0c29': 42, 'ప': 43, 'ఫ': 44, 'బ': 45, 'భ': 46, 'మ': 47, 'య': 48, 'ర': 49, 'ఱ': 50, 'ల': 51, 'ళ': 52, 'ఴ': 53, 'వ': 54, 'శ': 55, 'ష': 56, 'స': 57, 'హ': 58, '\\u0c3a': 59, '\\u0c3b': 60, '\\u0c3c': 61, 'ఽ': 62, 'ా': 63, 'ి': 64, 'ీ': 65, 'ు': 66, 'ూ': 67, 'ృ': 68, 'ౄ': 69, '\\u0c45': 70, 'ె': 71, 'ే': 72, 'ై': 73, '\\u0c49': 74, 'ొ': 75, 'ో': 76, 'ౌ': 77, '్': 78, '\\u0c4e': 79, '\\u0c4f': 80, '\\u0c50': 81, '\\u0c51': 82, '\\u0c52': 83, '\\u0c53': 84, '\\u0c54': 85, 'ౕ': 86, 'ౖ': 87, '\\u0c57': 88, 'ౘ': 89, 'ౙ': 90, 'ౚ': 91, '\\u0c5b': 92, '\\u0c5c': 93, '\\u0c5d': 94, '\\u0c5e': 95, '\\u0c5f': 96, 'ౠ': 97, 'ౡ': 98, 'ౢ': 99, 'ౣ': 100, '\\u0c64': 101, '\\u0c65': 102, '౦': 103, '౧': 104, '౨': 105, '౩': 106, '౪': 107, '౫': 108, '౬': 109, '౭': 110, '౮': 111, '౯': 112, '\\u0c70': 113, '\\u0c71': 114, '\\u0c72': 115, '\\u0c73': 116, '\\u0c74': 117, '\\u0c75': 118, '\\u0c76': 119, '౷': 120, '౸': 121, '౹': 122, '౺': 123, '౻': 124, '౼': 125, '౽': 126, '౾': 127, '\\u200c': 128, '\\u200d': 129}\n"
     ]
    }
   ],
   "source": [
    "#Telugu unicode for hex range is 3072:3199\n",
    "tel_alphabets = [chr(alpha) for alpha in range(3072,3199)]\n",
    "tel_alphabets.append(chr(8204))\n",
    "tel_alphabets.append(chr(8205))\n",
    "tel_size = len(tel_alphabets)\n",
    "teldic = {pad : 0}\n",
    "for index ,alpha in enumerate(tel_alphabets):\n",
    "  teldic[alpha] = index+1\n",
    "print(teldic)  \n"
   ]
  },
  {
   "cell_type": "code",
   "execution_count": 8,
   "metadata": {},
   "outputs": [
    {
     "name": "stdout",
     "output_type": "stream",
     "text": [
      "ఆం\n"
     ]
    }
   ],
   "source": [
    "print(tel_alphabets[6]+tel_alphabets[2])"
   ]
  },
  {
   "cell_type": "markdown",
   "metadata": {
    "id": "bEvEqhWg2fSR"
   },
   "source": [
    "# **Preprocessing**"
   ]
  },
  {
   "cell_type": "code",
   "execution_count": 9,
   "metadata": {
    "executionInfo": {
     "elapsed": 8,
     "status": "ok",
     "timestamp": 1678383756637,
     "user": {
      "displayName": "Narendra K",
      "userId": "08510007875355726337"
     },
     "user_tz": -330
    },
    "id": "aTshdooL2Qgq"
   },
   "outputs": [],
   "source": [
    "X=[]\n",
    "Y=[]\n",
    "with open(r\"v1.en_tel_wiki_titles.txt\",encoding = \"utf8\") as f:\n",
    "  for line in f:\n",
    "    line = line.split()\n",
    "    eng = line[0].strip().upper()\n",
    "    tel = line[1].strip()\n",
    "    X.append(eng)\n",
    "    Y.append(tel)"
   ]
  },
  {
   "cell_type": "code",
   "execution_count": 10,
   "metadata": {},
   "outputs": [],
   "source": [
    "def seto(instring):\n",
    "    for i in range(0, len(instring)-2):\n",
    "        if (instring[i] == instring[i+1]):\n",
    "            return 1\n",
    "        else: \n",
    "            continue\n",
    "    return 0\n",
    "        "
   ]
  },
  {
   "cell_type": "code",
   "execution_count": 15,
   "metadata": {},
   "outputs": [
    {
     "name": "stdout",
     "output_type": "stream",
     "text": [
      "0\n"
     ]
    }
   ],
   "source": [
    "print(seto(L[1]))"
   ]
  },
  {
   "cell_type": "code",
   "execution_count": 14,
   "metadata": {},
   "outputs": [],
   "source": [
    "L=[]\n",
    "M=[]\n",
    "with open(r\"telugu2.txt\",encoding = \"utf8\") as k:\n",
    "    for line in k:\n",
    "        line = line.split()\n",
    "        EN = line[1].strip().upper()\n",
    "        TE = line[0].strip()\n",
    "        if(len(TE)>10 and seto(EN)==0):\n",
    "            L.append(EN)\n",
    "            M.append(TE)"
   ]
  },
  {
   "cell_type": "code",
   "execution_count": 16,
   "metadata": {},
   "outputs": [],
   "source": [
    "X = X+L\n",
    "Y = Y+M"
   ]
  },
  {
   "cell_type": "code",
   "execution_count": 17,
   "metadata": {
    "executionInfo": {
     "elapsed": 7,
     "status": "ok",
     "timestamp": 1678383756637,
     "user": {
      "displayName": "Narendra K",
      "userId": "08510007875355726337"
     },
     "user_tz": -330
    },
    "id": "KgF9ibyTlWwm"
   },
   "outputs": [],
   "source": [
    "X_train,X_test,Y_train,Y_test = train_test_split(X,Y,test_size=0.2)"
   ]
  },
  {
   "cell_type": "code",
   "execution_count": 113,
   "metadata": {
    "colab": {
     "base_uri": "https://localhost:8080/"
    },
    "executionInfo": {
     "elapsed": 7,
     "status": "ok",
     "timestamp": 1678383756637,
     "user": {
      "displayName": "Narendra K",
      "userId": "08510007875355726337"
     },
     "user_tz": -330
    },
    "id": "wQothmT3Zfkf",
    "outputId": "9d7581b9-5cc3-464d-a23f-9f096ba48c34"
   },
   "outputs": [
    {
     "name": "stdout",
     "output_type": "stream",
     "text": [
      "TAJIKISTAN తజికిస్తాన్\n",
      "BIKKAVOLU బిక్కవోలు\n",
      "PARATHYROID పారాథైరాయిడ్\n"
     ]
    }
   ],
   "source": [
    "for i in range(3):\n",
    "  print(X_train[i],Y_train[i])"
   ]
  },
  {
   "cell_type": "code",
   "execution_count": 114,
   "metadata": {},
   "outputs": [
    {
     "name": "stdout",
     "output_type": "stream",
     "text": [
      "16026\n"
     ]
    }
   ],
   "source": [
    "print(len(X))"
   ]
  },
  {
   "cell_type": "markdown",
   "metadata": {
    "id": "YRmRVH6gZkwU"
   },
   "source": [
    "# **Dataset loading**"
   ]
  },
  {
   "cell_type": "code",
   "execution_count": 115,
   "metadata": {
    "executionInfo": {
     "elapsed": 6,
     "status": "ok",
     "timestamp": 1678383756637,
     "user": {
      "displayName": "Narendra K",
      "userId": "08510007875355726337"
     },
     "user_tz": -330
    },
    "id": "12BGJQ0-EdsM"
   },
   "outputs": [],
   "source": [
    "from torch.utils.data import Dataset\n",
    "\n",
    "class Dataloader(Dataset):\n",
    "  def __init__(self, a ,b):\n",
    "    self.tel_words, self.eng_words = a,b\n",
    "    self.shuffle_indices  = list(range(len(self.tel_words)))\n",
    "    random.shuffle(self.shuffle_indices)\n",
    "    self.shuffle_start_index = 0\n",
    "  def __len__(self):\n",
    "    return len(self.tel_words)\n",
    "\n",
    "  def __getitem__(self, idx):\n",
    "    return self.tel_words[idx], self.eng_words[idx]\n",
    "\n",
    "  def get_random_sample(self):\n",
    "    return self.getitem__(np.random.randint(len(self.tel_words)))\n",
    "\n",
    "  def get_batch_from_array(self, batch_size, array):\n",
    "    end = self.shuffle_start_index + batch_size\n",
    "    batch = []\n",
    "    if end >= len(self.tel_words):\n",
    "      batch = [array[i] for i in self.shuffle_indices[0:end%len(self.tel_words)]]\n",
    "      end = len(self.tel_words)\n",
    "    return batch + [array[i] for i in self.shuffle_indices[self.shuffle_start_index : end]]\n",
    "  \n",
    "  def get_batch(self, batch_size, postprocess=True):\n",
    "    tel_batch = self.get_batch_from_array(batch_size, self.tel_words)\n",
    "    eng_batch = self.get_batch_from_array(batch_size, self.eng_words)\n",
    "    self.shuffle_start_index += batch_size +1\n",
    "\n",
    "    if  self.shuffle_start_index >= len(self.tel_words):\n",
    "      random.shuffle(self.shuffle_indices)\n",
    "      self.shuffle_start_index = 0\n",
    "\n",
    "    return tel_batch , eng_batch\n",
    "\n",
    "\n",
    "   "
   ]
  },
  {
   "cell_type": "code",
   "execution_count": 116,
   "metadata": {
    "executionInfo": {
     "elapsed": 5,
     "status": "ok",
     "timestamp": 1678383756637,
     "user": {
      "displayName": "Narendra K",
      "userId": "08510007875355726337"
     },
     "user_tz": -330
    },
    "id": "w603-tmmJNyZ"
   },
   "outputs": [
    {
     "name": "stdout",
     "output_type": "stream",
     "text": [
      "('చంద్రచటర్జీ', 'CHANDRACHATARJEE')\n",
      "('నెలలు', 'NELALU')\n",
      "('ట్రూప్', 'TROUPE')\n"
     ]
    }
   ],
   "source": [
    "train_data = Dataloader(Y_train, X_train)\n",
    "test_data = Dataloader(Y_test, X_test)\n",
    "for i in range(3):\n",
    "    print(test_data[i])"
   ]
  },
  {
   "cell_type": "code",
   "execution_count": 117,
   "metadata": {
    "executionInfo": {
     "elapsed": 5,
     "status": "ok",
     "timestamp": 1678383756637,
     "user": {
      "displayName": "Narendra K",
      "userId": "08510007875355726337"
     },
     "user_tz": -330
    },
    "id": "CrBMcb9nfv6g"
   },
   "outputs": [],
   "source": [
    "def word_rep(word, dic, device = 'cpu'):\n",
    "  word_rep = torch.zeros(len(word)+1, 1, len(dic)).to(device)\n",
    "  for letter_index , letter in enumerate(word):\n",
    "    pos = dic[letter]\n",
    "    word_rep[letter_index][0][pos] = 1\n",
    "  pad_pos = dic[pad]\n",
    "  word_rep[letter_index+1][0][pad_pos] = 1\n",
    "  return word_rep  "
   ]
  },
  {
   "cell_type": "code",
   "execution_count": 118,
   "metadata": {
    "executionInfo": {
     "elapsed": 5,
     "status": "ok",
     "timestamp": 1678383756637,
     "user": {
      "displayName": "Narendra K",
      "userId": "08510007875355726337"
     },
     "user_tz": -330
    },
    "id": "wn_helV4lFJ_"
   },
   "outputs": [],
   "source": [
    "def gt_rep(word, dic, device = 'cpu'):\n",
    "  word = word.upper()\n",
    "  rep = torch.zeros([len(word)+1, 1], dtype=torch.long).to(device)\n",
    "  for letter_index, letter in enumerate(word):\n",
    "    pos = dic[letter]\n",
    "    rep[letter_index][0] = pos\n",
    "  rep[letter_index+1][0] = dic[pad]\n",
    "  return rep"
   ]
  },
  {
   "cell_type": "code",
   "execution_count": 119,
   "metadata": {},
   "outputs": [
    {
     "name": "stdout",
     "output_type": "stream",
     "text": [
      "పంజాబీ\n",
      "దేవత\n",
      "బెషెవిస్\n"
     ]
    }
   ],
   "source": [
    "for i in range(3):\n",
    "    print(Y[i])"
   ]
  },
  {
   "cell_type": "code",
   "execution_count": 120,
   "metadata": {
    "executionInfo": {
     "elapsed": 1330,
     "status": "ok",
     "timestamp": 1678383757962,
     "user": {
      "displayName": "Narendra K",
      "userId": "08510007875355726337"
     },
     "user_tz": -330
    },
    "id": "ExmeGtdX2gU0"
   },
   "outputs": [],
   "source": [
    "c=0\n",
    "for i in X:\n",
    "  c=c+1\n",
    "  try:\n",
    "    a = gt_rep(i,engdic)\n",
    "  except:\n",
    "    print(c)"
   ]
  },
  {
   "cell_type": "code",
   "execution_count": null,
   "metadata": {
    "colab": {
     "base_uri": "https://localhost:8080/"
    },
    "executionInfo": {
     "elapsed": 10,
     "status": "ok",
     "timestamp": 1678383757962,
     "user": {
      "displayName": "Narendra K",
      "userId": "08510007875355726337"
     },
     "user_tz": -330
    },
    "id": "8aTFRjzLIR-B",
    "outputId": "0939fb9e-714f-4cb2-f0e6-f28705d3cafc"
   },
   "outputs": [],
   "source": []
  },
  {
   "cell_type": "code",
   "execution_count": 19,
   "metadata": {
    "colab": {
     "base_uri": "https://localhost:8080/"
    },
    "executionInfo": {
     "elapsed": 8,
     "status": "ok",
     "timestamp": 1678383757962,
     "user": {
      "displayName": "Narendra K",
      "userId": "08510007875355726337"
     },
     "user_tz": -330
    },
    "id": "BgZIziVEZwW5",
    "outputId": "1f6d61af-8dc5-476b-bd2b-d1131c08ba0a"
   },
   "outputs": [
    {
     "name": "stdout",
     "output_type": "stream",
     "text": [
      "tensor([[16],\n",
      "        [21],\n",
      "        [14],\n",
      "        [10],\n",
      "        [ 1],\n",
      "        [ 2],\n",
      "        [ 9],\n",
      "        [ 0]])\n"
     ]
    }
   ],
   "source": [
    "sample2 = gt_rep(X[0],engdic)\n",
    "print(sample2)"
   ]
  },
  {
   "cell_type": "markdown",
   "metadata": {
    "id": "PWeDUoBfnu3U"
   },
   "source": [
    "# **Network Architecture(using GRUs) with Attention**"
   ]
  },
  {
   "cell_type": "code",
   "execution_count": 20,
   "metadata": {
    "executionInfo": {
     "elapsed": 5,
     "status": "ok",
     "timestamp": 1678383757963,
     "user": {
      "displayName": "Narendra K",
      "userId": "08510007875355726337"
     },
     "user_tz": -330
    },
    "id": "JFxDRrmPnssj"
   },
   "outputs": [],
   "source": [
    "Max = 30\n",
    "class Transliteration_Encoder_Decoder(nn.Module):\n",
    "  \n",
    "  def __init__(self, input_size, hidden_size, output_size):\n",
    "    super(Transliteration_Encoder_Decoder,self).__init__()\n",
    "\n",
    "    self.hidden_size = hidden_size\n",
    "    self.output_size = output_size\n",
    "\n",
    "    self.encoder_rnn_cell = nn.GRU(input_size, hidden_size)\n",
    "    self.decoder_rnn_cell = nn.GRU(hidden_size*2, hidden_size)\n",
    "\n",
    "    self.h2o = nn.Linear(hidden_size, output_size)\n",
    "    self.softmax = nn.LogSoftmax(dim=2)\n",
    "\n",
    "    self.U = nn.Linear(self.hidden_size,self.hidden_size)\n",
    "    self.W = nn.Linear(self.hidden_size,self.hidden_size)\n",
    "    self.attn = nn.Linear(self.hidden_size, 1)\n",
    "    self.out2hidden = nn.Linear(self.output_size, self.hidden_size)\n",
    "\n",
    "\n",
    "  def forward(self, input_, max_char = Max, device = 'cpu', gt=None):\n",
    "    # encoder\n",
    "    eout, hidden = self.encoder_rnn_cell(input_)\n",
    "    eout = eout.view(-1,self.hidden_size)\n",
    "    # decoder\n",
    "    decoder_state = hidden\n",
    "    decoder_input = torch.zeros(1, 1, self.output_size).to(device)\n",
    "   \n",
    "    outputs = []\n",
    "    U = self.U(eout)\n",
    "\n",
    "    for i in range(max_char):\n",
    "\n",
    "      W = self.W(decoder_state.view(1,-1).repeat(eout.shape[0], 1))\n",
    "      V = self.attn(torch.tanh(U + W))\n",
    "      attn_weights = F.softmax(V.view(1,-1), dim = 1)\n",
    "\n",
    "      attn_applied = torch.bmm(attn_weights.unsqueeze(0),\n",
    "                               eout.unsqueeze(0))\n",
    "\n",
    "      embedding = self.out2hidden(decoder_input)\n",
    "      decoder_input = torch.cat((embedding[0], attn_applied[0]),1).unsqueeze(0)\n",
    "\n",
    "      out , decoder_state = self.decoder_rnn_cell(decoder_input, decoder_state)\n",
    "      \n",
    "      out = self.h2o(decoder_state)\n",
    "      out = self.softmax(out)\n",
    "      outputs.append(out.view(1,-1))\n",
    "\n",
    "      #giving output of one nn to next nn\n",
    "\n",
    "      idx= torch.argmax(out,2,keepdim=True)\n",
    "      if not gt is None:\n",
    "        idx = gt[i].reshape(1,1,1)\n",
    "      one_hot = torch.zeros(out.shape, device = device)\n",
    "      one_hot.scatter_(2,idx,1)\n",
    "\n",
    "      decoder_input = one_hot.detach()\n",
    "    return outputs"
   ]
  },
  {
   "cell_type": "code",
   "execution_count": 21,
   "metadata": {
    "executionInfo": {
     "elapsed": 5,
     "status": "ok",
     "timestamp": 1678383757963,
     "user": {
      "displayName": "Narendra K",
      "userId": "08510007875355726337"
     },
     "user_tz": -330
    },
    "id": "UetOrJLkJxQM"
   },
   "outputs": [],
   "source": [
    "def infer(net, name,n, device):\n",
    "  net.eval().to(device)\n",
    "  name_ohe = word_rep(name,teldic,device)\n",
    "  output = net(name_ohe,n,device)\n",
    "  return output"
   ]
  },
  {
   "cell_type": "code",
   "execution_count": 22,
   "metadata": {},
   "outputs": [],
   "source": [
    "model2 = torch.load(\"model1.pt\",map_location = torch.device(\"cpu\"))"
   ]
  },
  {
   "cell_type": "code",
   "execution_count": 23,
   "metadata": {
    "executionInfo": {
     "elapsed": 1152,
     "status": "ok",
     "timestamp": 1678389572494,
     "user": {
      "displayName": "Narendra K",
      "userId": "08510007875355726337"
     },
     "user_tz": -330
    },
    "id": "XXgETxshJQJw"
   },
   "outputs": [],
   "source": [
    "out = infer(model2 , \"తస్కత్సం\",20,device_gpu)"
   ]
  },
  {
   "cell_type": "code",
   "execution_count": 25,
   "metadata": {},
   "outputs": [
    {
     "name": "stdout",
     "output_type": "stream",
     "text": [
      "1035292\n"
     ]
    }
   ],
   "source": [
    "pytorch_total_params = sum(p.numel() for p in model2.parameters())\n",
    "print(pytorch_total_params)"
   ]
  },
  {
   "cell_type": "code",
   "execution_count": 26,
   "metadata": {
    "colab": {
     "base_uri": "https://localhost:8080/"
    },
    "executionInfo": {
     "elapsed": 3,
     "status": "ok",
     "timestamp": 1678389573485,
     "user": {
      "displayName": "Narendra K",
      "userId": "08510007875355726337"
     },
     "user_tz": -330
    },
    "id": "3aaZc9WEDIBQ",
    "outputId": "37ad5e60-777f-41a0-81a3-21722a40d37d"
   },
   "outputs": [
    {
     "name": "stdout",
     "output_type": "stream",
     "text": [
      "torch.Size([1, 27]) T\n",
      "torch.Size([1, 27]) A\n",
      "torch.Size([1, 27]) S\n",
      "torch.Size([1, 27]) K\n",
      "torch.Size([1, 27]) A\n",
      "torch.Size([1, 27]) T\n",
      "torch.Size([1, 27]) S\n",
      "torch.Size([1, 27]) A\n",
      "torch.Size([1, 27]) M\n",
      "torch.Size([1, 27]) -PAD-\n",
      "torch.Size([1, 27]) -PAD-\n",
      "torch.Size([1, 27]) -PAD-\n",
      "torch.Size([1, 27]) -PAD-\n",
      "torch.Size([1, 27]) -PAD-\n",
      "torch.Size([1, 27]) -PAD-\n",
      "torch.Size([1, 27]) -PAD-\n",
      "torch.Size([1, 27]) -PAD-\n",
      "torch.Size([1, 27]) -PAD-\n",
      "torch.Size([1, 27]) -PAD-\n",
      "torch.Size([1, 27]) -PAD-\n"
     ]
    }
   ],
   "source": [
    "for i in range(len(out)):\n",
    "  print(out[i].shape, list(engdic.keys())[list(engdic.values()).index(torch.argmax(out[i]))])"
   ]
  },
  {
   "cell_type": "markdown",
   "metadata": {
    "id": "pkmX8cKvc31z"
   },
   "source": [
    "# **Training**"
   ]
  },
  {
   "cell_type": "code",
   "execution_count": 27,
   "metadata": {
    "executionInfo": {
     "elapsed": 4,
     "status": "ok",
     "timestamp": 1678383766102,
     "user": {
      "displayName": "Narendra K",
      "userId": "08510007875355726337"
     },
     "user_tz": -330
    },
    "id": "ekLZHPyRc2Zo"
   },
   "outputs": [],
   "source": [
    "def train_batch(net, opt, criterion, batch_size, device = 'cpu', teacherforce = False):\n",
    "  \n",
    "  net.train().to(device)\n",
    "  opt.zero_grad()\n",
    "  tel_batch, eng_batch = train_data.get_batch(batch_size)\n",
    "\n",
    "  total_loss = 0\n",
    "  for i in range(batch_size):\n",
    "    input = word_rep(tel_batch[i], teldic, device)\n",
    "    gt = gt_rep(eng_batch[i], engdic, device)\n",
    "    outputs = net(input, gt.shape[0], device, gt = gt if teacherforce else None)\n",
    "\n",
    "    for index, output in enumerate(outputs):\n",
    "      loss = criterion(output, gt[index]) / batch_size\n",
    "      loss.backward(retain_graph = True)\n",
    "      total_loss += loss\n",
    "  opt.step()\n",
    "  return total_loss/batch_size    \n",
    "\n"
   ]
  },
  {
   "cell_type": "code",
   "execution_count": 28,
   "metadata": {
    "executionInfo": {
     "elapsed": 3,
     "status": "ok",
     "timestamp": 1678383766102,
     "user": {
      "displayName": "Narendra K",
      "userId": "08510007875355726337"
     },
     "user_tz": -330
    },
    "id": "Icg7YDttgEMi"
   },
   "outputs": [],
   "source": [
    "def train_setup(net, lr = 0.01, n_batches = 100, batch_size = 10, display_freq = 5, device = 'cpu'):\n",
    "\n",
    "  net = net.to(device)\n",
    "  criterion = nn.NLLLoss(ignore_index = -1)\n",
    "  opt = optim.Adam(net.parameters(), lr=lr)\n",
    "  teacher_force_upto = n_batches//3\n",
    "\n",
    "  loss_arr = np.zeros(n_batches+1)\n",
    "\n",
    "  for i in range(n_batches):\n",
    "    loss_arr[i+1] = (loss_arr[i]*i + train_batch(net, opt, criterion, batch_size, device = device, teacherforce = i<teacher_force_upto)) /(i+1)\n",
    "    if i%display_freq == display_freq-1:\n",
    "        clear_output(wait=True)\n",
    "        print('Iteration', i, 'Loss', loss_arr[i])\n",
    "        plt.figure()\n",
    "        plt.plot(loss_arr[1:i], '-*')\n",
    "        plt.xlabel('Iteration')\n",
    "        plt.ylabel('Loss')\n",
    "        plt.show()\n",
    "        print('\\n\\n')\n",
    "        mlflow.log_metric(\"train_loss\",loss_arr[i])\n",
    "        mlflow.log_metric(\"Iteration\",i)\n",
    "  return loss_arr"
   ]
  },
  {
   "cell_type": "code",
   "execution_count": 22,
   "metadata": {
    "colab": {
     "base_uri": "https://localhost:8080/",
     "height": 385
    },
    "executionInfo": {
     "elapsed": 5631069,
     "status": "ok",
     "timestamp": 1678389397168,
     "user": {
      "displayName": "Narendra K",
      "userId": "08510007875355726337"
     },
     "user_tz": -330
    },
    "id": "aOeeiWeajU-z",
    "outputId": "981a5fec-03d3-4064-dd41-8ca3143dc393"
   },
   "outputs": [
    {
     "name": "stdout",
     "output_type": "stream",
     "text": [
      "Iteration 1999 Loss 0.110249362885952\n"
     ]
    },
    {
     "data": {
      "image/png": "[encoded data removed]",
      "text/plain": [
       "<Figure size 432x288 with 1 Axes>"
      ]
     },
     "metadata": {
      "needs_background": "light"
     },
     "output_type": "display_data"
    },
    {
     "name": "stdout",
     "output_type": "stream",
     "text": [
      "\n",
      "\n",
      "\n"
     ]
    },
    {
     "data": {
      "text/plain": [
       "array([0.        , 0.42652631, 0.43753999, ..., 0.11027178, 0.11024936,\n",
       "       0.11022153])"
      ]
     },
     "execution_count": 22,
     "metadata": {},
     "output_type": "execute_result"
    }
   ],
   "source": [
    "net = Transliteration_Encoder_Decoder(len(teldic),256,len(engdic))\n",
    "train_setup(net, lr=args.lr, n_batches = args.n_batches, batch_size = args.batch_size, display_freq=10, device= device_gpu)"
   ]
  },
  {
   "cell_type": "code",
   "execution_count": 29,
   "metadata": {
    "executionInfo": {
     "elapsed": 6,
     "status": "ok",
     "timestamp": 1678389397168,
     "user": {
      "displayName": "Narendra K",
      "userId": "08510007875355726337"
     },
     "user_tz": -330
    },
    "id": "KNQ78-6fM4mO"
   },
   "outputs": [],
   "source": [
    "def calc_accuracy(net, device = 'cpu'):\n",
    "  net = net.eval().to(device)\n",
    "  predictions = []\n",
    "  accuracy = 0\n",
    "  for i in range(len(test_data)):\n",
    "    tel, eng = test_data[i]\n",
    "    gt = gt_rep(eng, engdic, device)\n",
    "    outputs = infer(net, tel,gt.shape[0], device)\n",
    "    correct = 0\n",
    "    for index,out in enumerate(outputs):\n",
    "      val, indices = out.topk(1)\n",
    "      eng_pos = indices.tolist()[0]\n",
    "      if eng_pos[0] == gt[index][0]:\n",
    "        correct += 1\n",
    "    accuracy += correct/gt.shape[0]\n",
    "  accuracy /= len(test_data)\n",
    "  accuracy = accuracy*100\n",
    "  mlflow.log_metric('test_accuracy',accuracy)\n",
    "  print(accuracy)"
   ]
  },
  {
   "cell_type": "markdown",
   "metadata": {},
   "source": [
    "# **Hyperparameter Tuning**"
   ]
  },
  {
   "cell_type": "code",
   "execution_count": 31,
   "metadata": {},
   "outputs": [],
   "source": [
    "class Params(object):\n",
    "    def __init__(self,batch_size,n_batches,lr,log_interval):\n",
    "        self.batch_size = batch_size\n",
    "        self.n_batches = n_batches\n",
    "        self.lr = lr\n",
    "        self.log_interval = log_interval   "
   ]
  },
  {
   "cell_type": "code",
   "execution_count": 32,
   "metadata": {},
   "outputs": [],
   "source": [
    "mlflow.set_tracking_uri(\"http://127.0.0.1:5000\")"
   ]
  },
  {
   "cell_type": "code",
   "execution_count": 129,
   "metadata": {},
   "outputs": [],
   "source": [
    "del model"
   ]
  },
  {
   "cell_type": "code",
   "execution_count": 130,
   "metadata": {},
   "outputs": [
    {
     "name": "stdout",
     "output_type": "stream",
     "text": [
      "Iteration 1999 Loss 0.12839582562446594\n"
     ]
    },
    {
     "data": {
      "image/png": "[encoded data removed]",
      "text/plain": [
       "<Figure size 640x480 with 1 Axes>"
      ]
     },
     "metadata": {},
     "output_type": "display_data"
    },
    {
     "name": "stdout",
     "output_type": "stream",
     "text": [
      "\n",
      "\n",
      "\n"
     ]
    },
    {
     "name": "stderr",
     "output_type": "stream",
     "text": [
      "2023/04/04 05:57:39 WARNING mlflow.utils.requirements_utils: Found torch version (2.0.0+cu117) contains a local version label (+cu117). MLflow logged a pip requirement for this package as 'torch==2.0.0' without the local version label to make it installable from PyPI. To specify pip requirements containing local version labels, please use `conda_env` or `pip_requirements`.\n"
     ]
    },
    {
     "name": "stdout",
     "output_type": "stream",
     "text": [
      "76.07968262631543\n"
     ]
    },
    {
     "name": "stderr",
     "output_type": "stream",
     "text": [
      "2023/04/04 05:57:49 WARNING mlflow.utils.requirements_utils: Found torch version (2.0.0+cu117) contains a local version label (+cu117). MLflow logged a pip requirement for this package as 'torch==2.0.0' without the local version label to make it installable from PyPI. To specify pip requirements containing local version labels, please use `conda_env` or `pip_requirements`.\n"
     ]
    }
   ],
   "source": [
    "for lr in [0.001]:\n",
    "    for batch_size in [32,64]:\n",
    "        for n_batches in [1000,1500,2000]:\n",
    "            expt_id = '%d_%d_%d' % (int(lr*100),n_batches,batch_size)\n",
    "            \n",
    "            model = Transliteration_Encoder_Decoder(len(teldic),256,len(engdic))\n",
    "            args = Params(n_batches,batch_size,lr,10) \n",
    "            with mlflow.start_run() as run:\n",
    "                for key,value in vars(args).items():\n",
    "                    mlflow.log_param(key,value)\n",
    "                train_setup(model, lr, n_batches, batch_size, display_freq=10,device= device_gpu)\n",
    "                calc_accuracy(model,device_gpu)\n",
    "                mlflow.pytorch.log_model(model,\"models\")\n",
    "                del model\n",
    "                torch.cuda.empty_cache()\n",
    "            \n",
    "            "
   ]
  },
  {
   "cell_type": "code",
   "execution_count": 128,
   "metadata": {},
   "outputs": [],
   "source": [
    "mlflow.end_run()"
   ]
  },
  {
   "cell_type": "code",
   "execution_count": 113,
   "metadata": {},
   "outputs": [
    {
     "name": "stdout",
     "output_type": "stream",
     "text": [
      "['మరియు', 'నూతన', 'సంవత్సర', 'శుభాకాంక్షలు']\n",
      "IYYYBYBYBY YYBYBYBYBY YYBYBBCIYY IYYYYYYYYY \n"
     ]
    }
   ],
   "source": [
    "a=\"మరియు నూతన సంవత్సర శుభాకాంక్షలు\"\n",
    "words=a.split()\n",
    "print(words)\n",
    "s=\"\"\n",
    "for word in words:\n",
    "  out2 = infer(net,word,10,device_gpu)\n",
    "  for i in range(len(out2)):\n",
    "    k=(list(engdic.keys())[list(engdic.values()).index(torch.argmax(out2[i]))])\n",
    "    if(str(k)==\"-PAD-\"):\n",
    "      continue\n",
    "    s=s+str(k)\n",
    "  s=s+\" \"\n",
    "print(s)"
   ]
  },
  {
   "cell_type": "code",
   "execution_count": 64,
   "metadata": {},
   "outputs": [
    {
     "name": "stdout",
     "output_type": "stream",
     "text": [
      "['తెలుగు', 'అనేది', 'ద్రావిడ', 'భాషల', 'కుటుంబానికి', 'చెందిన', 'భాష.', 'దీనిని', 'మాట్లాడే', 'ప్రజలు', 'ప్రధానంగా', 'ఆంధ్ర,', 'తెలంగాణాలో', 'ఉన్నారు.', 'ఇది', 'ఆ', 'రాష్ట్రాలలో', 'అధికార', 'భాష.', 'భారతదేశంలో', 'ఒకటి', 'కంటే', 'ఎక్కువ', 'రాష్ట్రాల్లో', 'ప్రాథమిక', 'అధికారిక', 'భాషా', 'హోదా', 'కలిగిన', 'కొద్ది', 'భాషలలో', 'హిందీ,', 'బెంగాలీలతో', 'పాటు', 'ఇది', 'కూడా', 'ఉంది.[5][6]', 'పుదుచ్చేరిలోని', 'యానం', 'జిల్లాలో', 'తెలుగు', 'అధికారిక', 'భాష.', 'ఒడిశా,', 'కర్ణాటక,', 'తమిళనాడు,', 'కేరళ,', 'పంజాబ్,', 'ఛత్తీస్\\u200cగఢ్,', 'మహారాష్ట్ర,', 'అండమాన్', 'నికోబార్', 'దీవులలో', 'గుర్తింపబడిన', 'అల్పసంఖ్యాక', 'భాష.', 'దేశ', 'ప్రభుత్వం', 'భారతదేశ', 'ప్రాచీన', 'భాషగా', 'గుర్తించిన', 'ఆరు', 'భాషలలో', 'ఇది', 'ఒకటి.[7][8]భారతదేశంలో', 'అత్యధికంగా', 'మాతృభాషగా', 'మాట్లాడే', 'భాషలలో', 'తెలుగు', 'నాలుగో', 'స్థానంలో', 'ఉంది.', 'భారతదేశంలో', '2011', 'జనాభా', 'లెక్కల', 'ప్రకారం', 'దాదాపు', '82', 'మిలియన్ల', 'మంది', 'మాట్లాడేవారున్నారు.[9]', 'ప్రపంచవ్యాప్తంగా', 'మాతృభాషగా', 'మాట్లాడే', 'భాషల', 'ఎథ్నోలాగ్', 'జాబితాలో', '15', 'వ', 'స్థానంలో', 'ఉంది.[10][11]', 'ఇది', 'ద్రావిడ', 'భాషా', 'కుటుంబంలో', 'ఎక్కువమంది', 'మాట్లాడే', 'భాష.', 'భారతదేశంలో', 'ఇరవై', 'రెండు', 'షెడ్యూల్', 'భాషలలో', 'ఇది', 'ఒకటి.[12]', 'ఇది', 'అమెరికాలో', 'వేగంగా', 'అభివృద్ధి', 'చెందుతున్న', 'భాష.[13]', 'తెలుగు', 'భాషలో', 'సుమారు', '10,000', 'పురాతన', 'శాసనాలు', 'ఉన్నాయి.[14]', 'కన్నడిగుడైన', 'శ్రీకృష్ణదేవరాయలు', 'తెలుగు', 'భాషను', \"'దేశ\", 'భాషలందు', 'తెలుగు', \"లెస్స'\", 'అని', 'వ్యవహరించాడు.', 'కన్నడ,', 'తెలుగు', 'అక్షరమాలలు', 'చాలా', 'వరకు', 'పోలికగలిగి', 'వుంటాయి.']\n"
     ]
    }
   ],
   "source": [
    "a=\"తెలుగు అనేది ద్రావిడ భాషల కుటుంబానికి చెందిన భాష. దీనిని మాట్లాడే ప్రజలు ప్రధానంగా ఆంధ్ర, తెలంగాణాలో ఉన్నారు. ఇది ఆ రాష్ట్రాలలో అధికార భాష. భారతదేశంలో ఒకటి కంటే ఎక్కువ రాష్ట్రాల్లో ప్రాథమిక అధికారిక భాషా హోదా కలిగిన కొద్ది భాషలలో హిందీ, బెంగాలీలతో పాటు ఇది కూడా ఉంది.[5][6] పుదుచ్చేరిలోని యానం జిల్లాలో తెలుగు అధికారిక భాష. ఒడిశా, కర్ణాటక, తమిళనాడు, కేరళ, పంజాబ్, ఛత్తీస్‌గఢ్, మహారాష్ట్ర, అండమాన్ నికోబార్ దీవులలో గుర్తింపబడిన అల్పసంఖ్యాక భాష. దేశ ప్రభుత్వం భారతదేశ ప్రాచీన భాషగా గుర్తించిన ఆరు భాషలలో ఇది ఒకటి.[7][8]భారతదేశంలో అత్యధికంగా మాతృభాషగా మాట్లాడే భాషలలో తెలుగు నాలుగో స్థానంలో ఉంది. భారతదేశంలో 2011 జనాభా లెక్కల ప్రకారం దాదాపు 82 మిలియన్ల మంది మాట్లాడేవారున్నారు.[9] ప్రపంచవ్యాప్తంగా మాతృభాషగా మాట్లాడే భాషల ఎథ్నోలాగ్ జాబితాలో 15 వ స్థానంలో ఉంది.[10][11] ఇది ద్రావిడ భాషా కుటుంబంలో ఎక్కువమంది మాట్లాడే భాష. భారతదేశంలో ఇరవై రెండు షెడ్యూల్ భాషలలో ఇది ఒకటి.[12] ఇది అమెరికాలో వేగంగా అభివృద్ధి చెందుతున్న భాష.[13] తెలుగు భాషలో సుమారు 10,000 పురాతన శాసనాలు ఉన్నాయి.[14] కన్నడిగుడైన శ్రీకృష్ణదేవరాయలు తెలుగు భాషను 'దేశ భాషలందు తెలుగు లెస్స' అని వ్యవహరించాడు. కన్నడ, తెలుగు అక్షరమాలలు చాలా వరకు పోలికగలిగి వుంటాయి.\"\n",
    "words=a.split()\n",
    "print(words)"
   ]
  },
  {
   "cell_type": "code",
   "execution_count": 18,
   "metadata": {},
   "outputs": [
    {
     "name": "stdout",
     "output_type": "stream",
     "text": [
      "పోగొట్టుకుంటే\n",
      "కలిగేటాధను\n",
      "ముందుగా\n",
      "ఊహించగలిగేవాడు\n",
      "పొందడానికి పడే\n",
      "శ్రమ వలన\n",
      "\n",
      "కలిగే బాధను\n",
      "పట్టించుకో డు\n",
      "\n"
     ]
    }
   ],
   "source": [
    "from PIL import Image\n",
    "import pytesseract\n",
    "print(pytesseract.image_to_string(Image.open(r\"C:\\Users\\Admin\\Downloads\\sample images\\1.jpeg\"),lang = 'tel'))"
   ]
  },
  {
   "cell_type": "code",
   "execution_count": 19,
   "metadata": {},
   "outputs": [],
   "source": [
    "im = Image.open(r\"C:\\Users\\Admin\\Downloads\\sample images\\1.jpeg\")\n",
    "im.show()\n"
   ]
  },
  {
   "cell_type": "code",
   "execution_count": null,
   "metadata": {},
   "outputs": [],
   "source": [
    "import Tkinter as tk\n",
    "Tk = tk()\n",
    "Tk.geometry"
   ]
  }
 ],
 "metadata": {
  "accelerator": "GPU",
  "colab": {
   "authorship_tag": "ABX9TyOzB9DT906iVS6ASb8TrwFU",
   "provenance": []
  },
  "gpuClass": "standard",
  "kernelspec": {
   "display_name": "Python 3 (ipykernel)",
   "language": "python",
   "name": "python3"
  },
  "language_info": {
   "codemirror_mode": {
    "name": "ipython",
    "version": 3
   },
   "file_extension": ".py",
   "mimetype": "text/x-python",
   "name": "python",
   "nbconvert_exporter": "python",
   "pygments_lexer": "ipython3",
   "version": "3.10.6"
  }
 },
 "nbformat": 4,
 "nbformat_minor": 1
}
